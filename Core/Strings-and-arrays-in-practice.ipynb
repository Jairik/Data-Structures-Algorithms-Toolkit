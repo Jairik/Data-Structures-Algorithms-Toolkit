{
 "cells": [
  {
   "cell_type": "markdown",
   "id": "10d1843c",
   "metadata": {},
   "source": [
    "# Arrays and Strings in Practice- Conceptual Overview\n",
    "\n",
    "Brief overview of arrays and strings, generally, as found in the software engineering field.\n",
    "\n",
    "## Arrays\n",
    "\n",
    "**Arrays** are the default data structure, with many problems being built on top of them. They are of **fixed size** in low level languages (Rust, C, etc), and can be **dynamic** in others (such as Python). Arrays are stored in **contiguous memory**. \n",
    "\n",
    "Searching through an array is **O(n)**, so finding ways to optimize this via pointers are important.\n",
    "\n",
    "### Typical Array Problems\n",
    "\n",
    "- **Two Pointers** - These are typically used when sorting arrays, removing duplicates, or reversing. \n",
    "- **Sliding Window** - Subarrays, longest substring, etc.\n",
    "- **Difference Array** - For subarray sums and calculations\n",
    "\n",
    "\n",
    "## Strings\n",
    "\n",
    "**Strings** are essentially arrays of characters, however are *immutable* in higher languages (such as Python, where modifications create new strings).\n",
    "\n",
    "Concatinating into a string is **O(n)**, unless builders or lists are used to join. Additionally, *strings* are easy to integrate into hashable data structures.\n",
    "\n",
    "### Typical String Problems\n",
    "\n",
    "These problems are very similar to array problems. \n",
    "\n",
    "### High-level String Problems\n"
   ]
  },
  {
   "cell_type": "code",
   "execution_count": 1,
   "id": "eb0ca11d",
   "metadata": {},
   "outputs": [],
   "source": [
    "# Example string - char array\n",
    "chars = [\"h\", \"e\", \"l\", \"l\", \"o\", \" \", \"w\", \"o\", \"r\", \"l\", \"d\"]"
   ]
  },
  {
   "cell_type": "markdown",
   "id": "1ea7ba8a",
   "metadata": {},
   "source": [
    "#### String-immutable notes\n",
    "\n",
    "Since strings are immutable, doing something like:"
   ]
  },
  {
   "cell_type": "code",
   "execution_count": null,
   "id": "5b342c46",
   "metadata": {},
   "outputs": [],
   "source": [
    "s: str = \"\"\n",
    "for c in chars:\n",
    "    s += c"
   ]
  },
  {
   "cell_type": "markdown",
   "id": "584788c9",
   "metadata": {},
   "source": [
    "Will make a new copy of the string during each step. This will make it **O(n)**.\n",
    "\n",
    "Instead, you could treat it as a list, then join it all once at the end to make it a string. This will make it **(O(n))**"
   ]
  },
  {
   "cell_type": "code",
   "execution_count": 2,
   "id": "501e9c1f",
   "metadata": {},
   "outputs": [],
   "source": [
    "builder: list = []\n",
    "for c in chars:\n",
    "    builder.append(c)  # Add the character to the char list\n",
    "\n",
    "result: str = \"\".join(builder)  # Will combine to a string at the end, making it O(n)"
   ]
  },
  {
   "cell_type": "markdown",
   "id": "932d7380",
   "metadata": {},
   "source": [
    "#### Converting strings to hashmaps\n",
    "\n",
    "For frequency counting, indexing, or grouping, lists can be converted into dicts."
   ]
  },
  {
   "cell_type": "code",
   "execution_count": 3,
   "id": "29a2795c",
   "metadata": {},
   "outputs": [
    {
     "name": "stdout",
     "output_type": "stream",
     "text": [
      "{'h': 1, 'e': 1, 'l': 3, 'o': 2, ' ': 1, 'w': 1, 'r': 1, 'd': 1}\n"
     ]
    }
   ],
   "source": [
    "''' Example of getting frequency of each letter in a string '''\n",
    "\n",
    "freq: dict = {}\n",
    "for c in chars:\n",
    "    freq[c] = freq.get(c, 0) + 1  # Add one to the entry at freq[c], using 0 as default\n",
    "\n",
    "print(freq)"
   ]
  }
 ],
 "metadata": {
  "kernelspec": {
   "display_name": "base",
   "language": "python",
   "name": "python3"
  },
  "language_info": {
   "codemirror_mode": {
    "name": "ipython",
    "version": 3
   },
   "file_extension": ".py",
   "mimetype": "text/x-python",
   "name": "python",
   "nbconvert_exporter": "python",
   "pygments_lexer": "ipython3",
   "version": "3.12.7"
  }
 },
 "nbformat": 4,
 "nbformat_minor": 5
}
