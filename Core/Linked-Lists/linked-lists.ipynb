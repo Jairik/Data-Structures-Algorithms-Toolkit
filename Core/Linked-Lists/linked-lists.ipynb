{
 "cells": [
  {
   "cell_type": "markdown",
   "id": "c37eb08e",
   "metadata": {},
   "source": [
    "# Linked Lists\n",
    "\n",
    "A linked list is a linear collection of nodes, where each node stores a value and pointer to the next node.\n",
    "\n",
    "**Inserting/Deleting**: O(1)\n",
    "\n",
    "**Indexing/Searching**: O(n)\n",
    "\n",
    "``` O -> O -> O -> O ... ```\n",
    "\n",
    "Where `O` (each node) contains a:\n",
    "- value\n",
    "- pointer to the next node\n",
    "\n",
    "In addition to the standard 'singly linked list' (each node points to one other), there are also:\n",
    "\n",
    " **doubly** and **circular** \n",
    " \n",
    " linked lists."
   ]
  },
  {
   "cell_type": "code",
   "execution_count": null,
   "id": "8cfd70eb",
   "metadata": {},
   "outputs": [],
   "source": [
    "''' Single Linked List Implementation - Standard '''\n",
    "\n",
    "# Single-Linked List Node - typically the standard for linked lists\n",
    "class ListNode:\n",
    "    def __init__(self, val=0, next=None):\n",
    "        self.val = val  # Value of the current node\n",
    "        self.next = next  # Next node, defaulted to none\n",
    "        \n",
    "class LinkedList:\n",
    "    def __init__(self):\n",
    "        self.head = None\n",
    "        self.tail = None\n",
    "    \n",
    "    # Insert a node at the front of the list - O(1)\n",
    "    def insert_front(self, val):\n",
    "        pass\n",
    "    \n",
    "    # Insert a node at the back of the list - O(1)\n",
    "    def insert_back(self, val):\n",
    "        pass\n",
    "    \n",
    "    # Iterate through the linked list and return the corresponding node - O(n)\n",
    "    def find(self, val) -> ListNode:\n",
    "        # Iterate through the list to find the corresponding node\n",
    "        temp_node = self.head  # Start at the head of the linked list\n",
    "        while(temp_node.next.val is not val):\n",
    "            temp_node = temp_node.next\n",
    "            # Check that the end of the list has not been reached (not in the list)\n",
    "            if (temp_node.next is None):\n",
    "                return None\n",
    "        \n",
    "        # At the point, the node has been found, so we can return it\n",
    "        return temp_node\n",
    "    \n",
    "    # Delete the node of a given value, returning success status - O(n)\n",
    "    def delete(self, val) -> bool:\n",
    "        # Use the find function to find the corresponding node\n",
    "        found_node = self.find(val)\n",
    "        if(found_node is None): return False\n",
    "        \n",
    "        # Now, the next node is the one we would like to delete, so we must adjust the previous node's pointer\n",
    "        \n",
    "        # If the node to delete is the head (first node)\n",
    "        if self.head and self.head.val == val:\n",
    "            self.head = self.head.next\n",
    "            if self.head is None:\n",
    "                self.tail = None\n",
    "        \n",
    "        # Else, found_node is the node before the one to delete\n",
    "        else:\n",
    "            to_delete = found_node.next\n",
    "            found_node.next = to_delete.next\n",
    "            if to_delete == self.tail:\n",
    "                self.tail = found_node\n",
    "        \n",
    "        return True"
   ]
  },
  {
   "cell_type": "code",
   "execution_count": null,
   "id": "e986494f",
   "metadata": {},
   "outputs": [],
   "source": [
    "''' Double Linked List Implementation '''\n",
    "\n",
    "# Double-Linked List Node - tracks the next and previous node\n",
    "class DoublyListNode:\n",
    "    def __init__(self, val=0, prev=None, next=None):\n",
    "        self.val = val  # Value of the current node\n",
    "        self.prev = prev  # Previous node, defaulted to none for empty lists\n",
    "        self.next = next  # Next node\n",
    "        \n",
    "# ... All other methods would be the same, except prev must be accounted for when inserting/deleting"
   ]
  },
  {
   "cell_type": "code",
   "execution_count": null,
   "id": "9f6e5efd",
   "metadata": {},
   "outputs": [],
   "source": [
    "''' Circular Linked List Implementation'''\n",
    "\n",
    "# Circular Linked List Node - like a single linked list, except 'next' points to the start of the list\n",
    "class CircularListNode:\n",
    "    def __init__(self, val=0):\n",
    "        self.val = val  # Value of the current node, just like for the single linked list\n",
    "        self.next = None  # Will get set during implementation\n",
    "\n",
    "# ... ALl other methods would be the same, except the last node points to self.head as next"
   ]
  },
  {
   "cell_type": "markdown",
   "id": "62ee3fd8",
   "metadata": {},
   "source": [
    "## Example Use Cases"
   ]
  },
  {
   "cell_type": "markdown",
   "id": "9c544003",
   "metadata": {},
   "source": [
    "### Problem #1 - Reverse a Linked List\n",
    "\n",
    "``` O -> O -> O -> O ```\n",
    "\n",
    "to \n",
    "\n",
    "``` O <- O <- O <- O ```\n",
    "\n",
    "This solution should be O(n) time, while maintaining O(1) space."
   ]
  },
  {
   "cell_type": "code",
   "execution_count": null,
   "id": "302266bc",
   "metadata": {},
   "outputs": [],
   "source": [
    "''' Return the head of the new reversed linked list '''\n",
    "\n",
    "def reverse_list(head: ListNode) -> ListNode:\n",
    "    prev: ListNode = None  # Keep track of the previous node\n",
    "    cur: ListNode = head  # Keep track of the current node\n",
    "    \n",
    "    # Go through each node, resetting the pointer and pointing to the previous node\n",
    "    while cur:\n",
    "        # Updating values\n",
    "        next_temp = cur.next  # Temporary value to hold the next node\n",
    "        cur.next = prev  # Set the current nodes pointer to the previous node\n",
    "        # Moving to the next node in the list\n",
    "        prev = cur\n",
    "        cur = next_temp\n",
    "        \n",
    "    return prev  # Returns the \"last\" node of the old list (first in the new reversed list)\n",
    "         "
   ]
  },
  {
   "cell_type": "markdown",
   "id": "b578b114",
   "metadata": {},
   "source": [
    "### Problem #2 - Detect a cycle\n",
    "\n",
    "This solution should be O(n) time, maintaining O(1) space."
   ]
  },
  {
   "cell_type": "code",
   "execution_count": null,
   "id": "4c5312fc",
   "metadata": {},
   "outputs": [],
   "source": [
    "def has_cycle(head: ListNode) -> bool:\n",
    "    # Set two pointers at the start\n",
    "    ahead: ListNode = head\n",
    "    behind: ListNode = head  # Will follow the \"ahead pointer\"\n",
    "    \n",
    "    # Iterate through the entire list\n",
    "    while ahead and ahead.next:\n",
    "        behind = behind.next  # Behind moves one step\n",
    "        ahead = ahead.next.next  # Ahead moves two steps\n",
    "        \n",
    "        # If behind and ahead are ever the same, then a cycle must exist\n",
    "        if behind is ahead:\n",
    "            return True\n",
    "        \n",
    "    # If ahead exits without ever being equal to behind, no cycle occurs\n",
    "    return False"
   ]
  }
 ],
 "metadata": {
  "language_info": {
   "name": "python"
  }
 },
 "nbformat": 4,
 "nbformat_minor": 5
}
